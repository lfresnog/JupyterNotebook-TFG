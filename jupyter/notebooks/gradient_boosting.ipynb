{
 "cells": [
  {
   "cell_type": "code",
   "execution_count": 1,
   "id": "1acb7f2f",
   "metadata": {},
   "outputs": [],
   "source": [
    "# Tratamiento de datos\n",
    "# ==============================================================================\n",
    "import numpy as np\n",
    "import pandas as pd\n",
    "\n",
    "# Gráficos\n",
    "# ==============================================================================\n",
    "import matplotlib.pyplot as plt\n",
    "\n",
    "# Preprocesado y modelado\n",
    "# ==============================================================================\n",
    "from sklearn.datasets import load_boston\n",
    "from sklearn.ensemble import GradientBoostingRegressor\n",
    "from sklearn.metrics import mean_squared_error\n",
    "from sklearn.model_selection import cross_val_score\n",
    "from sklearn.model_selection import train_test_split\n",
    "from sklearn.model_selection import RepeatedKFold\n",
    "from sklearn.model_selection import KFold\n",
    "from sklearn.model_selection import GridSearchCV\n",
    "from sklearn.model_selection import ParameterGrid\n",
    "from sklearn.inspection import permutation_importance\n",
    "import multiprocessing\n",
    "\n",
    "# Configuración warnings\n",
    "# ==============================================================================\n",
    "import warnings\n",
    "warnings.filterwarnings('once')"
   ]
  },
  {
   "cell_type": "code",
   "execution_count": 2,
   "id": "bf9c6ecf",
   "metadata": {},
   "outputs": [],
   "source": [
    "# read the data and store data in DataFrame titled kn\n",
    "df = pd.read_csv('../data/data.csv')"
   ]
  },
  {
   "cell_type": "code",
   "execution_count": 3,
   "id": "2eecd546",
   "metadata": {},
   "outputs": [
    {
     "name": "stdout",
     "output_type": "stream",
     "text": [
      "0        5.4375\n",
      "1        3.3750\n",
      "2        8.0625\n",
      "3        9.0000\n",
      "4        6.5000\n",
      "          ...  \n",
      "19213    6.7500\n",
      "19214    4.2500\n",
      "19215    6.1250\n",
      "19216    6.3750\n",
      "19217    4.2500\n",
      "Name: grade, Length: 19218, dtype: float64\n"
     ]
    }
   ],
   "source": [
    "max_score = 5 * 32\n",
    "score_students_columns = df.filter(regex='S$', axis=1)\n",
    "final_score = score_students_columns.sum(axis=1)\n",
    "grades = (final_score/max_score)*10\n",
    "df['grade'] = grades\n",
    "print(df.grade)"
   ]
  },
  {
   "cell_type": "code",
   "execution_count": 4,
   "id": "073e299e",
   "metadata": {},
   "outputs": [
    {
     "data": {
      "text/plain": [
       "GradientBoostingRegressor(max_features='auto', n_estimators=10,\n",
       "                          random_state=123)"
      ]
     },
     "execution_count": 4,
     "metadata": {},
     "output_type": "execute_result"
    }
   ],
   "source": [
    "# División de los datos en train y test\n",
    "# ==============================================================================\n",
    "X_train, X_test, y_train, y_test = train_test_split(\n",
    "                                        df[['Q15S','Q25S','Q16S','Q19S','Q22S','Q23S','Q1S','Q9S','Q11S','Q27S']],\n",
    "                                        df['grade'],\n",
    "                                        random_state = 123\n",
    "                                    )\n",
    "# Creación del modelo\n",
    "# ==============================================================================\n",
    "modelo = GradientBoostingRegressor(\n",
    "            n_estimators = 10,\n",
    "            loss         = 'ls',\n",
    "            max_features = 'auto',\n",
    "            random_state = 123\n",
    "         )\n",
    "\n",
    "# Entrenamiento del modelo\n",
    "# ==============================================================================\n",
    "modelo.fit(X_train, y_train)"
   ]
  },
  {
   "cell_type": "code",
   "execution_count": 5,
   "id": "ce4ea2e4",
   "metadata": {},
   "outputs": [
    {
     "name": "stdout",
     "output_type": "stream",
     "text": [
      "El error (rmse) de test es: 0.9886213026383898\n"
     ]
    }
   ],
   "source": [
    "# Error de test del modelo inicial\n",
    "# ==============================================================================\n",
    "predicciones = modelo.predict(X = X_test)\n",
    "\n",
    "rmse = mean_squared_error(\n",
    "        y_true  = y_test,\n",
    "        y_pred  = predicciones,\n",
    "        squared = False\n",
    "       )\n",
    "print(f\"El error (rmse) de test es: {rmse}\")"
   ]
  },
  {
   "cell_type": "code",
   "execution_count": 6,
   "id": "6a763f17",
   "metadata": {},
   "outputs": [
    {
     "name": "stdout",
     "output_type": "stream",
     "text": [
      "Valor óptimo de n_estimators: 326\n"
     ]
    },
    {
     "data": {
      "image/png": "[encoded data removed]",
      "text/plain": [
       "<Figure size 432x276.48 with 1 Axes>"
      ]
     },
     "metadata": {
      "needs_background": "light"
     },
     "output_type": "display_data"
    }
   ],
   "source": [
    "# Validación empleando k-cross-validation y neg_root_mean_squared_error\n",
    "# ==============================================================================\n",
    "train_scores = []\n",
    "cv_scores    = []\n",
    "\n",
    "# Valores evaluados\n",
    "estimator_range = range(1, 500, 25)\n",
    "\n",
    "# Bucle para entrenar un modelo con cada valor de n_estimators y extraer su error\n",
    "# de entrenamiento y de k-cross-validation.\n",
    "for n_estimators in estimator_range:\n",
    "    \n",
    "    modelo = GradientBoostingRegressor(\n",
    "                n_estimators = n_estimators,\n",
    "                loss         = 'ls',\n",
    "                max_features = 'auto',\n",
    "                random_state = 123\n",
    "             )\n",
    "    \n",
    "    # Error de train\n",
    "    modelo.fit(X_train, y_train)\n",
    "    predicciones = modelo.predict(X = X_train)\n",
    "    rmse = mean_squared_error(\n",
    "            y_true  = y_train,\n",
    "            y_pred  = predicciones,\n",
    "            squared = False\n",
    "           )\n",
    "    train_scores.append(rmse)\n",
    "    \n",
    "    # Error de validación cruzada\n",
    "    scores = cross_val_score(\n",
    "                estimator = modelo,\n",
    "                X         = X_train,\n",
    "                y         = y_train,\n",
    "                scoring   = 'neg_root_mean_squared_error',\n",
    "                cv        = 5,\n",
    "                n_jobs    = multiprocessing.cpu_count() - 1,\n",
    "             )\n",
    "    # Se agregan los scores de cross_val_score() y se pasa a positivo\n",
    "    cv_scores.append(-1*scores.mean())\n",
    "    \n",
    "# Gráfico con la evolución de los errores\n",
    "fig, ax = plt.subplots(figsize=(6, 3.84))\n",
    "ax.plot(estimator_range, train_scores, label=\"train scores\")\n",
    "ax.plot(estimator_range, cv_scores, label=\"cv scores\")\n",
    "ax.plot(estimator_range[np.argmin(cv_scores)], min(cv_scores),\n",
    "        marker='o', color = \"red\", label=\"min score\")\n",
    "ax.set_ylabel(\"root_mean_squared_error\")\n",
    "ax.set_xlabel(\"n_estimators\")\n",
    "ax.set_title(\"Evolución del cv-error vs número árboles\")\n",
    "plt.legend();\n",
    "print(f\"Valor óptimo de n_estimators: {estimator_range[np.argmin(cv_scores)]}\")"
   ]
  },
  {
   "cell_type": "code",
   "execution_count": 7,
   "id": "4a6a10b7",
   "metadata": {},
   "outputs": [
    {
     "data": {
      "image/png": "[encoded data removed]",
      "text/plain": [
       "<Figure size 864x276.48 with 2 Axes>"
      ]
     },
     "metadata": {
      "needs_background": "light"
     },
     "output_type": "display_data"
    }
   ],
   "source": [
    "# Validación empleando k-cross-validation y neg_root_mean_squared_error\n",
    "# ==============================================================================\n",
    "resultados = {}\n",
    "\n",
    "# Valores evaluados\n",
    "learning_rates = [0.001, 0.01, 0.1]\n",
    "n_estimators   = [10, 20, 100, 200, 300, 400, 500, 1000, 2000, 5000]\n",
    "\n",
    "\n",
    "# Bucle para entrenar un modelo con cada combinacion de  learning_rate y n_estimator \n",
    "# y extraer su error de entrenamiento y k-cross-validation.\n",
    "for learning_rate in learning_rates:\n",
    "    train_scores = []\n",
    "    cv_scores    = []\n",
    "    \n",
    "    for n_estimator in n_estimators:\n",
    "    \n",
    "        modelo = GradientBoostingRegressor(\n",
    "                    n_estimators  = n_estimator,\n",
    "                    learning_rate = learning_rate,\n",
    "                    loss          = 'ls',\n",
    "                    max_features  = 'auto',\n",
    "                    random_state  = 123\n",
    "                 )\n",
    "\n",
    "        # Error de train\n",
    "        modelo.fit(X_train, y_train)\n",
    "        predicciones = modelo.predict(X = X_train)\n",
    "        rmse = mean_squared_error(\n",
    "                y_true  = y_train,\n",
    "                y_pred  = predicciones,\n",
    "                squared = False\n",
    "               )\n",
    "        train_scores.append(rmse)\n",
    "\n",
    "        # Error de validación cruzada\n",
    "        scores = cross_val_score(\n",
    "                    estimator = modelo,\n",
    "                    X         = X_train,\n",
    "                    y         = y_train,\n",
    "                    scoring   = 'neg_root_mean_squared_error',\n",
    "                    cv        = 3,\n",
    "                    n_jobs    = multiprocessing.cpu_count() - 1\n",
    "                 )\n",
    "        # Se agregan los scores de cross_val_score() y se pasa a positivo\n",
    "        cv_scores.append(-1*scores.mean())\n",
    "        \n",
    "    resultados[learning_rate] = {'train_scores': train_scores, 'cv_scores': cv_scores}\n",
    "\n",
    "# Gráfico con la evolución de los errores de entrenamiento\n",
    "fig, axs = plt.subplots(nrows=1, ncols=2, figsize=(12, 3.84))\n",
    "\n",
    "for key, value in resultados.items():\n",
    "    axs[0].plot(n_estimators, value['train_scores'], label=f\"Learning rate {key}\")\n",
    "    axs[0].set_ylabel(\"root_mean_squared_error\")\n",
    "    axs[0].set_xlabel(\"n_estimators\")\n",
    "    axs[0].set_title(\"Evolución del train error vs learning rate\")\n",
    "    \n",
    "    axs[1].plot(n_estimators, value['cv_scores'], label=f\"Learning rate {key}\")\n",
    "    axs[1].set_ylabel(\"root_mean_squared_error\")\n",
    "    axs[1].set_xlabel(\"n_estimators\")\n",
    "    axs[1].set_title(\"Evolución del cv-error vs learning rate\")\n",
    "    plt.legend();"
   ]
  },
  {
   "cell_type": "code",
   "execution_count": 8,
   "id": "2001b18a",
   "metadata": {},
   "outputs": [
    {
     "name": "stdout",
     "output_type": "stream",
     "text": [
      "Valor óptimo de max_depth: 3\n"
     ]
    },
    {
     "data": {
      "image/png": "[encoded data removed]",
      "text/plain": [
       "<Figure size 432x276.48 with 1 Axes>"
      ]
     },
     "metadata": {
      "needs_background": "light"
     },
     "output_type": "display_data"
    }
   ],
   "source": [
    "# Validación empleando k-cross-validation y neg_root_mean_squared_error\n",
    "# ==============================================================================\n",
    "train_scores = []\n",
    "cv_scores    = []\n",
    "\n",
    "# Valores evaluados\n",
    "max_depths = [1, 3, 5, 10, 20]\n",
    "\n",
    "# Bucle para entrenar un modelo con cada valor de max_depth y extraer su error\n",
    "# de entrenamiento y de k-cross-validation.\n",
    "for max_depth in max_depths:\n",
    "    \n",
    "    modelo = GradientBoostingRegressor(\n",
    "                n_estimators = 100,\n",
    "                loss         = 'ls',\n",
    "                max_depth    = max_depth,\n",
    "                max_features = 'auto',\n",
    "                random_state = 123\n",
    "             )\n",
    "    \n",
    "    # Error de train\n",
    "    modelo.fit(X_train, y_train)\n",
    "    predicciones = modelo.predict(X = X_train)\n",
    "    rmse = mean_squared_error(\n",
    "            y_true  = y_train,\n",
    "            y_pred  = predicciones,\n",
    "            squared = False\n",
    "           )\n",
    "    train_scores.append(rmse)\n",
    "    \n",
    "    # Error de validación cruzada\n",
    "    scores = cross_val_score(\n",
    "                estimator = modelo,\n",
    "                X         = X_train,\n",
    "                y         = y_train,\n",
    "                scoring   = 'neg_root_mean_squared_error',\n",
    "                cv        = 5,\n",
    "                n_jobs    = multiprocessing.cpu_count() - 1\n",
    "             )\n",
    "    # Se agregan los scores de cross_val_score() y se pasa a positivo\n",
    "    cv_scores.append(-1*scores.mean())\n",
    "    \n",
    "# Gráfico con la evolución de los errores\n",
    "fig, ax = plt.subplots(figsize=(6, 3.84))\n",
    "ax.plot(max_depths, train_scores, label=\"train scores\")\n",
    "ax.plot(max_depths, cv_scores, label=\"cv scores\")\n",
    "ax.plot(max_depths[np.argmin(cv_scores)], min(cv_scores),\n",
    "        marker='o', color = \"red\", label=\"min score\")\n",
    "ax.set_ylabel(\"root_mean_squared_error\")\n",
    "ax.set_xlabel(\"max_depth\")\n",
    "ax.set_title(\"Evolución del cv-error vs profundidad árboles\")\n",
    "plt.legend();\n",
    "print(f\"Valor óptimo de max_depth: {max_depths[np.argmin(cv_scores)]}\")"
   ]
  },
  {
   "cell_type": "code",
   "execution_count": 9,
   "id": "b17bf7e8",
   "metadata": {},
   "outputs": [
    {
     "data": {
      "text/html": [
       "<div>\n",
       "<style scoped>\n",
       "    .dataframe tbody tr th:only-of-type {\n",
       "        vertical-align: middle;\n",
       "    }\n",
       "\n",
       "    .dataframe tbody tr th {\n",
       "        vertical-align: top;\n",
       "    }\n",
       "\n",
       "    .dataframe thead th {\n",
       "        text-align: right;\n",
       "    }\n",
       "</style>\n",
       "<table border=\"1\" class=\"dataframe\">\n",
       "  <thead>\n",
       "    <tr style=\"text-align: right;\">\n",
       "      <th></th>\n",
       "      <th>param_learning_rate</th>\n",
       "      <th>param_max_depth</th>\n",
       "      <th>param_max_features</th>\n",
       "      <th>param_subsample</th>\n",
       "      <th>mean_test_score</th>\n",
       "      <th>std_test_score</th>\n",
       "      <th>mean_train_score</th>\n",
       "      <th>std_train_score</th>\n",
       "    </tr>\n",
       "  </thead>\n",
       "  <tbody>\n",
       "    <tr>\n",
       "      <th>80</th>\n",
       "      <td>0.1</td>\n",
       "      <td>1</td>\n",
       "      <td>sqrt</td>\n",
       "      <td>0.5</td>\n",
       "      <td>-0.664560</td>\n",
       "      <td>0.005941</td>\n",
       "      <td>-0.659599</td>\n",
       "      <td>0.001455</td>\n",
       "    </tr>\n",
       "    <tr>\n",
       "      <th>82</th>\n",
       "      <td>0.1</td>\n",
       "      <td>1</td>\n",
       "      <td>log2</td>\n",
       "      <td>0.5</td>\n",
       "      <td>-0.664560</td>\n",
       "      <td>0.005941</td>\n",
       "      <td>-0.659599</td>\n",
       "      <td>0.001455</td>\n",
       "    </tr>\n",
       "    <tr>\n",
       "      <th>83</th>\n",
       "      <td>0.1</td>\n",
       "      <td>1</td>\n",
       "      <td>log2</td>\n",
       "      <td>1</td>\n",
       "      <td>-0.664803</td>\n",
       "      <td>0.006215</td>\n",
       "      <td>-0.659982</td>\n",
       "      <td>0.000759</td>\n",
       "    </tr>\n",
       "    <tr>\n",
       "      <th>81</th>\n",
       "      <td>0.1</td>\n",
       "      <td>1</td>\n",
       "      <td>sqrt</td>\n",
       "      <td>1</td>\n",
       "      <td>-0.664803</td>\n",
       "      <td>0.006215</td>\n",
       "      <td>-0.659982</td>\n",
       "      <td>0.000759</td>\n",
       "    </tr>\n",
       "  </tbody>\n",
       "</table>\n",
       "</div>"
      ],
      "text/plain": [
       "   param_learning_rate param_max_depth param_max_features param_subsample  \\\n",
       "80                 0.1               1               sqrt             0.5   \n",
       "82                 0.1               1               log2             0.5   \n",
       "83                 0.1               1               log2               1   \n",
       "81                 0.1               1               sqrt               1   \n",
       "\n",
       "    mean_test_score  std_test_score  mean_train_score  std_train_score  \n",
       "80        -0.664560        0.005941         -0.659599         0.001455  \n",
       "82        -0.664560        0.005941         -0.659599         0.001455  \n",
       "83        -0.664803        0.006215         -0.659982         0.000759  \n",
       "81        -0.664803        0.006215         -0.659982         0.000759  "
      ]
     },
     "execution_count": 9,
     "metadata": {},
     "output_type": "execute_result"
    }
   ],
   "source": [
    "# Grid de hiperparámetros evaluados\n",
    "# ==============================================================================\n",
    "param_grid = {'max_features'  : ['auto', 'sqrt', 'log2'],\n",
    "              'max_depth'     : [None, 1, 3, 5, 10, 20],\n",
    "              'subsample'     : [0.5, 1],\n",
    "              'learning_rate' : [0.001, 0.01, 0.1]\n",
    "             }\n",
    "\n",
    "# Búsqueda por grid search con validación cruzada\n",
    "# ==============================================================================\n",
    "grid = GridSearchCV(\n",
    "        estimator  = GradientBoostingRegressor(\n",
    "                        n_estimators        = 1000, \n",
    "                        random_state        = 123,\n",
    "                        # Activación de la parada temprana\n",
    "                        validation_fraction = 0.1,\n",
    "                        n_iter_no_change    = 5,\n",
    "                        tol                 = 0.0001\n",
    "                    ),\n",
    "        param_grid = param_grid,\n",
    "        scoring    = 'neg_root_mean_squared_error',\n",
    "        n_jobs     = multiprocessing.cpu_count() - 1,\n",
    "        cv         = RepeatedKFold(n_splits=3, n_repeats=1, random_state=123), \n",
    "        refit      = True,\n",
    "        verbose    = 0,\n",
    "        return_train_score = True\n",
    "       )\n",
    "\n",
    "grid.fit(X = X_train, y = y_train)\n",
    "\n",
    "# Resultados\n",
    "# ==============================================================================\n",
    "resultados = pd.DataFrame(grid.cv_results_)\n",
    "resultados.filter(regex = '(param.*|mean_t|std_t)') \\\n",
    "    .drop(columns = 'params') \\\n",
    "    .sort_values('mean_test_score', ascending = False) \\\n",
    "    .head(4)"
   ]
  },
  {
   "cell_type": "code",
   "execution_count": 10,
   "id": "36388b04",
   "metadata": {},
   "outputs": [
    {
     "name": "stdout",
     "output_type": "stream",
     "text": [
      "----------------------------------------\n",
      "Mejores hiperparámetros encontrados (cv)\n",
      "----------------------------------------\n",
      "{'learning_rate': 0.1, 'max_depth': 1, 'max_features': 'sqrt', 'subsample': 0.5} : -0.66456036976962 neg_root_mean_squared_error\n"
     ]
    }
   ],
   "source": [
    "# Mejores hiperparámetros por validación cruzada\n",
    "# ==============================================================================\n",
    "print(\"----------------------------------------\")\n",
    "print(\"Mejores hiperparámetros encontrados (cv)\")\n",
    "print(\"----------------------------------------\")\n",
    "print(grid.best_params_, \":\", grid.best_score_, grid.scoring)"
   ]
  },
  {
   "cell_type": "code",
   "execution_count": 11,
   "id": "7e5424a7",
   "metadata": {},
   "outputs": [
    {
     "name": "stdout",
     "output_type": "stream",
     "text": [
      "Número de árboles del modelo: 267\n"
     ]
    }
   ],
   "source": [
    "# Número de árboles del modelo final (early stopping)\n",
    "# ==============================================================================\n",
    "print(f\"Número de árboles del modelo: {grid.best_estimator_.n_estimators_}\")"
   ]
  },
  {
   "cell_type": "code",
   "execution_count": 12,
   "id": "dfd41337",
   "metadata": {},
   "outputs": [
    {
     "name": "stdout",
     "output_type": "stream",
     "text": [
      "El error (rmse) de test es: 0.6574194501218817\n"
     ]
    }
   ],
   "source": [
    "# Error de test del modelo final\n",
    "# ==============================================================================\n",
    "modelo_final = grid.best_estimator_\n",
    "predicciones = modelo_final.predict(X = X_test)\n",
    "rmse = mean_squared_error(\n",
    "        y_true  = y_test,\n",
    "        y_pred  = predicciones,\n",
    "        squared = False\n",
    "       )\n",
    "print(f\"El error (rmse) de test es: {rmse}\")"
   ]
  },
  {
   "cell_type": "code",
   "execution_count": 13,
   "id": "bbd5062a",
   "metadata": {},
   "outputs": [
    {
     "name": "stdout",
     "output_type": "stream",
     "text": [
      "Importancia de los predictores en el modelo\n",
      "-------------------------------------------\n"
     ]
    },
    {
     "data": {
      "text/html": [
       "<div>\n",
       "<style scoped>\n",
       "    .dataframe tbody tr th:only-of-type {\n",
       "        vertical-align: middle;\n",
       "    }\n",
       "\n",
       "    .dataframe tbody tr th {\n",
       "        vertical-align: top;\n",
       "    }\n",
       "\n",
       "    .dataframe thead th {\n",
       "        text-align: right;\n",
       "    }\n",
       "</style>\n",
       "<table border=\"1\" class=\"dataframe\">\n",
       "  <thead>\n",
       "    <tr style=\"text-align: right;\">\n",
       "      <th></th>\n",
       "      <th>predictor</th>\n",
       "      <th>importancia</th>\n",
       "    </tr>\n",
       "  </thead>\n",
       "  <tbody>\n",
       "    <tr>\n",
       "      <th>6</th>\n",
       "      <td>Q1S</td>\n",
       "      <td>0.186614</td>\n",
       "    </tr>\n",
       "    <tr>\n",
       "      <th>3</th>\n",
       "      <td>Q19S</td>\n",
       "      <td>0.149860</td>\n",
       "    </tr>\n",
       "    <tr>\n",
       "      <th>8</th>\n",
       "      <td>Q11S</td>\n",
       "      <td>0.124444</td>\n",
       "    </tr>\n",
       "    <tr>\n",
       "      <th>7</th>\n",
       "      <td>Q9S</td>\n",
       "      <td>0.114737</td>\n",
       "    </tr>\n",
       "    <tr>\n",
       "      <th>1</th>\n",
       "      <td>Q25S</td>\n",
       "      <td>0.093723</td>\n",
       "    </tr>\n",
       "    <tr>\n",
       "      <th>9</th>\n",
       "      <td>Q27S</td>\n",
       "      <td>0.088150</td>\n",
       "    </tr>\n",
       "    <tr>\n",
       "      <th>0</th>\n",
       "      <td>Q15S</td>\n",
       "      <td>0.082669</td>\n",
       "    </tr>\n",
       "    <tr>\n",
       "      <th>2</th>\n",
       "      <td>Q16S</td>\n",
       "      <td>0.060519</td>\n",
       "    </tr>\n",
       "    <tr>\n",
       "      <th>4</th>\n",
       "      <td>Q22S</td>\n",
       "      <td>0.059584</td>\n",
       "    </tr>\n",
       "    <tr>\n",
       "      <th>5</th>\n",
       "      <td>Q23S</td>\n",
       "      <td>0.039699</td>\n",
       "    </tr>\n",
       "  </tbody>\n",
       "</table>\n",
       "</div>"
      ],
      "text/plain": [
       "  predictor  importancia\n",
       "6       Q1S     0.186614\n",
       "3      Q19S     0.149860\n",
       "8      Q11S     0.124444\n",
       "7       Q9S     0.114737\n",
       "1      Q25S     0.093723\n",
       "9      Q27S     0.088150\n",
       "0      Q15S     0.082669\n",
       "2      Q16S     0.060519\n",
       "4      Q22S     0.059584\n",
       "5      Q23S     0.039699"
      ]
     },
     "execution_count": 13,
     "metadata": {},
     "output_type": "execute_result"
    }
   ],
   "source": [
    "importancia_predictores = pd.DataFrame(\n",
    "                            {'predictor': df[['Q15S','Q25S','Q16S','Q19S','Q22S','Q23S','Q1S','Q9S','Q11S','Q27S']].columns,\n",
    "                             'importancia': modelo_final.feature_importances_}\n",
    "                            )\n",
    "print(\"Importancia de los predictores en el modelo\")\n",
    "print(\"-------------------------------------------\")\n",
    "importancia_predictores.sort_values('importancia', ascending=False)"
   ]
  },
  {
   "cell_type": "code",
   "execution_count": 14,
   "id": "8b53227c",
   "metadata": {},
   "outputs": [
    {
     "data": {
      "text/html": [
       "<div>\n",
       "<style scoped>\n",
       "    .dataframe tbody tr th:only-of-type {\n",
       "        vertical-align: middle;\n",
       "    }\n",
       "\n",
       "    .dataframe tbody tr th {\n",
       "        vertical-align: top;\n",
       "    }\n",
       "\n",
       "    .dataframe thead th {\n",
       "        text-align: right;\n",
       "    }\n",
       "</style>\n",
       "<table border=\"1\" class=\"dataframe\">\n",
       "  <thead>\n",
       "    <tr style=\"text-align: right;\">\n",
       "      <th></th>\n",
       "      <th>importances_mean</th>\n",
       "      <th>importances_std</th>\n",
       "      <th>feature</th>\n",
       "    </tr>\n",
       "  </thead>\n",
       "  <tbody>\n",
       "    <tr>\n",
       "      <th>6</th>\n",
       "      <td>0.219771</td>\n",
       "      <td>0.002961</td>\n",
       "      <td>Q1S</td>\n",
       "    </tr>\n",
       "    <tr>\n",
       "      <th>3</th>\n",
       "      <td>0.126820</td>\n",
       "      <td>0.003406</td>\n",
       "      <td>Q19S</td>\n",
       "    </tr>\n",
       "    <tr>\n",
       "      <th>9</th>\n",
       "      <td>0.096889</td>\n",
       "      <td>0.001939</td>\n",
       "      <td>Q27S</td>\n",
       "    </tr>\n",
       "    <tr>\n",
       "      <th>8</th>\n",
       "      <td>0.084694</td>\n",
       "      <td>0.001509</td>\n",
       "      <td>Q11S</td>\n",
       "    </tr>\n",
       "    <tr>\n",
       "      <th>0</th>\n",
       "      <td>0.072705</td>\n",
       "      <td>0.001789</td>\n",
       "      <td>Q15S</td>\n",
       "    </tr>\n",
       "    <tr>\n",
       "      <th>7</th>\n",
       "      <td>0.069006</td>\n",
       "      <td>0.001259</td>\n",
       "      <td>Q9S</td>\n",
       "    </tr>\n",
       "    <tr>\n",
       "      <th>4</th>\n",
       "      <td>0.063521</td>\n",
       "      <td>0.001566</td>\n",
       "      <td>Q22S</td>\n",
       "    </tr>\n",
       "    <tr>\n",
       "      <th>2</th>\n",
       "      <td>0.057018</td>\n",
       "      <td>0.001724</td>\n",
       "      <td>Q16S</td>\n",
       "    </tr>\n",
       "    <tr>\n",
       "      <th>1</th>\n",
       "      <td>0.049179</td>\n",
       "      <td>0.000973</td>\n",
       "      <td>Q25S</td>\n",
       "    </tr>\n",
       "    <tr>\n",
       "      <th>5</th>\n",
       "      <td>0.033172</td>\n",
       "      <td>0.001580</td>\n",
       "      <td>Q23S</td>\n",
       "    </tr>\n",
       "  </tbody>\n",
       "</table>\n",
       "</div>"
      ],
      "text/plain": [
       "   importances_mean  importances_std feature\n",
       "6          0.219771         0.002961     Q1S\n",
       "3          0.126820         0.003406    Q19S\n",
       "9          0.096889         0.001939    Q27S\n",
       "8          0.084694         0.001509    Q11S\n",
       "0          0.072705         0.001789    Q15S\n",
       "7          0.069006         0.001259     Q9S\n",
       "4          0.063521         0.001566    Q22S\n",
       "2          0.057018         0.001724    Q16S\n",
       "1          0.049179         0.000973    Q25S\n",
       "5          0.033172         0.001580    Q23S"
      ]
     },
     "execution_count": 14,
     "metadata": {},
     "output_type": "execute_result"
    }
   ],
   "source": [
    "importancia = permutation_importance(\n",
    "                estimator    = modelo_final,\n",
    "                X            = X_train,\n",
    "                y            = y_train,\n",
    "                n_repeats    = 5,\n",
    "                scoring      = 'neg_root_mean_squared_error',\n",
    "                n_jobs       = multiprocessing.cpu_count() - 1,\n",
    "                random_state = 123\n",
    "             )\n",
    "\n",
    "# Se almacenan los resultados (media y desviación) en un dataframe\n",
    "df_importancia = pd.DataFrame(\n",
    "                    {k: importancia[k] for k in ['importances_mean', 'importances_std']}\n",
    "                 )\n",
    "df_importancia['feature'] = X_train.columns\n",
    "df_importancia.sort_values('importances_mean', ascending=False)"
   ]
  },
  {
   "cell_type": "code",
   "execution_count": 15,
   "id": "8d544d38",
   "metadata": {},
   "outputs": [
    {
     "data": {
      "image/png": "[encoded data removed]",
      "text/plain": [
       "<Figure size 720x432 with 1 Axes>"
      ]
     },
     "metadata": {
      "needs_background": "light"
     },
     "output_type": "display_data"
    }
   ],
   "source": [
    "# Gráfico\n",
    "fig, ax = plt.subplots(figsize=(10, 6))\n",
    "\n",
    "sorted_idx = importancia.importances_mean.argsort()\n",
    "ax.boxplot(\n",
    "        importancia.importances[sorted_idx].T,\n",
    "        vert   = False,\n",
    "        labels = df[['Q15S','Q25S','Q16S','Q19S','Q22S','Q23S','Q1S','Q9S','Q11S','Q27S']].columns[sorted_idx]\n",
    ")\n",
    "ax.set_title('Importancia de los predictores (train)')\n",
    "ax.set_xlabel('Incremento del error tras la permutación')\n",
    "fig.tight_layout();"
   ]
  },
  {
   "cell_type": "code",
   "execution_count": 18,
   "id": "2ec5c218",
   "metadata": {},
   "outputs": [
    {
     "name": "stdout",
     "output_type": "stream",
     "text": [
      "0.7666275134006526\n"
     ]
    }
   ],
   "source": [
    "print(modelo_final.score(X_test, y_test))"
   ]
  },
  {
   "cell_type": "code",
   "execution_count": null,
   "id": "514db949",
   "metadata": {},
   "outputs": [],
   "source": []
  }
 ],
 "metadata": {
  "kernelspec": {
   "display_name": "Python 3 (ipykernel)",
   "language": "python",
   "name": "python3"
  },
  "language_info": {
   "codemirror_mode": {
    "name": "ipython",
    "version": 3
   },
   "file_extension": ".py",
   "mimetype": "text/x-python",
   "name": "python",
   "nbconvert_exporter": "python",
   "pygments_lexer": "ipython3",
   "version": "3.8.10"
  }
 },
 "nbformat": 4,
 "nbformat_minor": 5
}
